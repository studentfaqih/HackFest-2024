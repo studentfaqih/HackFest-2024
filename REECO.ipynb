{
  "nbformat": 4,
  "nbformat_minor": 0,
  "metadata": {
    "colab": {
      "provenance": []
    },
    "kernelspec": {
      "name": "python3",
      "display_name": "Python 3"
    },
    "language_info": {
      "name": "python"
    }
  },
  "cells": [
    {
      "cell_type": "code",
      "execution_count": 11,
      "metadata": {
        "colab": {
          "base_uri": "https://localhost:8080/"
        },
        "id": "rEE14dS0wYd7",
        "outputId": "580b9181-5cff-4744-a615-0d052feaf7d0"
      },
      "outputs": [
        {
          "output_type": "stream",
          "name": "stdout",
          "text": [
            "Drive already mounted at /content/drive; to attempt to forcibly remount, call drive.mount(\"/content/drive\", force_remount=True).\n"
          ]
        }
      ],
      "source": [
        "from google.colab import drive\n",
        "drive.mount('/content/drive')"
      ]
    },
    {
      "cell_type": "code",
      "source": [
        "import zipfile\n",
        "import os\n",
        "\n",
        "zip_path = '/content/drive/MyDrive/Garbage.zip'\n",
        "extract_path = '/content/dataset'\n",
        "\n",
        "with zipfile.ZipFile(zip_path, 'r') as zip_ref:\n",
        "    zip_ref.extractall(extract_path)\n"
      ],
      "metadata": {
        "id": "StbL9FWIwrym"
      },
      "execution_count": 12,
      "outputs": []
    },
    {
      "cell_type": "code",
      "source": [
        "dataset_path = '/content/dataset/garbage_classification'\n",
        "\n",
        "class_folders = os.listdir(dataset_path)\n",
        "print(class_folders)\n"
      ],
      "metadata": {
        "colab": {
          "base_uri": "https://localhost:8080/"
        },
        "id": "0uPVngBtzRxv",
        "outputId": "5774fe5d-6ec7-4d9b-cfa0-c4d25ca843d3"
      },
      "execution_count": 13,
      "outputs": [
        {
          "output_type": "stream",
          "name": "stdout",
          "text": [
            "['cardboard', 'trash', 'plastic', 'white-glass', 'paper', 'clothes', 'brown-glass', 'metal', 'green-glass', 'battery', 'shoes', 'biological']\n"
          ]
        }
      ]
    },
    {
      "cell_type": "code",
      "source": [
        "import os\n",
        "from shutil import copy2\n",
        "\n",
        "original_dataset_path = '/content/dataset/garbage_classification'\n",
        "\n",
        "base_dir = '/content/garbage_dataset'\n",
        "train_dir = os.path.join(base_dir, 'train')\n",
        "validation_dir = os.path.join(base_dir, 'validation')\n",
        "\n",
        "\n",
        "os.makedirs(train_dir, exist_ok=True)\n",
        "os.makedirs(validation_dir, exist_ok=True)\n",
        "\n",
        "\n",
        "for class_folder in class_folders:\n",
        "    class_path = os.path.join(original_dataset_path, class_folder)\n",
        "    train_class_path = os.path.join(train_dir, class_folder)\n",
        "    validation_class_path = os.path.join(validation_dir, class_folder)\n",
        "\n",
        "    os.makedirs(train_class_path, exist_ok=True)\n",
        "    os.makedirs(validation_class_path, exist_ok=True)\n",
        "\n",
        "    images = os.listdir(class_path)\n",
        "    num_images = len(images)\n",
        "    split_index = int(0.8 * num_images)  # 80% train, 20% validation\n",
        "\n",
        "    # 80% Training\n",
        "    for image in images[:split_index]:\n",
        "        src = os.path.join(class_path, image)\n",
        "        dst = os.path.join(train_class_path, image)\n",
        "        copy2(src, dst)\n",
        "\n",
        "    # 20% Validation\n",
        "    for image in images[split_index:]:\n",
        "        src = os.path.join(class_path, image)\n",
        "        dst = os.path.join(validation_class_path, image)\n",
        "        copy2(src, dst)\n",
        "\n"
      ],
      "metadata": {
        "id": "ojvCourxz6HB"
      },
      "execution_count": 14,
      "outputs": []
    },
    {
      "cell_type": "code",
      "source": [
        "def count_images_in_directory(directory):\n",
        "    count = 0\n",
        "    for root, dirs, files in os.walk(directory):\n",
        "        count += len(files)\n",
        "    return count\n",
        "\n",
        "# Cek jumlah gambar dalam setiap direktori\n",
        "for class_folder in class_folders:\n",
        "    train_class_path = os.path.join(train_dir, class_folder)\n",
        "    validation_class_path = os.path.join(validation_dir, class_folder)\n",
        "\n",
        "    train_count = count_images_in_directory(train_class_path)\n",
        "    validation_count = count_images_in_directory(validation_class_path)\n",
        "\n",
        "    print(f\"Jumlah gambar untuk kelas {class_folder} (Train): {train_count}\")\n",
        "    print(f\"Jumlah gambar untuk kelas {class_folder} (Validation): {validation_count}\")\n"
      ],
      "metadata": {
        "colab": {
          "base_uri": "https://localhost:8080/"
        },
        "id": "HdyKP0_70OA1",
        "outputId": "d42610c2-4dbc-46c4-b534-262e83f028a7"
      },
      "execution_count": 15,
      "outputs": [
        {
          "output_type": "stream",
          "name": "stdout",
          "text": [
            "Jumlah gambar untuk kelas cardboard (Train): 712\n",
            "Jumlah gambar untuk kelas cardboard (Validation): 179\n",
            "Jumlah gambar untuk kelas trash (Train): 557\n",
            "Jumlah gambar untuk kelas trash (Validation): 140\n",
            "Jumlah gambar untuk kelas plastic (Train): 692\n",
            "Jumlah gambar untuk kelas plastic (Validation): 173\n",
            "Jumlah gambar untuk kelas white-glass (Train): 620\n",
            "Jumlah gambar untuk kelas white-glass (Validation): 155\n",
            "Jumlah gambar untuk kelas paper (Train): 840\n",
            "Jumlah gambar untuk kelas paper (Validation): 210\n",
            "Jumlah gambar untuk kelas clothes (Train): 4260\n",
            "Jumlah gambar untuk kelas clothes (Validation): 1065\n",
            "Jumlah gambar untuk kelas brown-glass (Train): 485\n",
            "Jumlah gambar untuk kelas brown-glass (Validation): 122\n",
            "Jumlah gambar untuk kelas metal (Train): 615\n",
            "Jumlah gambar untuk kelas metal (Validation): 154\n",
            "Jumlah gambar untuk kelas green-glass (Train): 503\n",
            "Jumlah gambar untuk kelas green-glass (Validation): 126\n",
            "Jumlah gambar untuk kelas battery (Train): 756\n",
            "Jumlah gambar untuk kelas battery (Validation): 189\n",
            "Jumlah gambar untuk kelas shoes (Train): 1581\n",
            "Jumlah gambar untuk kelas shoes (Validation): 396\n",
            "Jumlah gambar untuk kelas biological (Train): 788\n",
            "Jumlah gambar untuk kelas biological (Validation): 197\n"
          ]
        }
      ]
    },
    {
      "cell_type": "code",
      "source": [
        "from tensorflow.keras.preprocessing.image import ImageDataGenerator\n",
        "\n",
        "train_datagen = ImageDataGenerator(\n",
        "    rescale=1./255,\n",
        "    shear_range=0.2,\n",
        "    zoom_range=0.2,\n",
        "    horizontal_flip=True\n",
        ")\n",
        "\n",
        "validation_datagen = ImageDataGenerator(rescale=1./255)\n",
        "\n",
        "train_generator = train_datagen.flow_from_directory(\n",
        "    train_dir,\n",
        "    target_size=(224, 224),\n",
        "    batch_size=32,\n",
        "    class_mode='categorical'\n",
        ")\n",
        "\n",
        "validation_generator = validation_datagen.flow_from_directory(\n",
        "    validation_dir,\n",
        "    target_size=(224, 224),\n",
        "    batch_size=32,\n",
        "    class_mode='categorical'\n",
        ")\n"
      ],
      "metadata": {
        "colab": {
          "base_uri": "https://localhost:8080/"
        },
        "id": "bo8qdf1c0o7v",
        "outputId": "dd3fe18a-197a-4764-ad46-23d9664ef27f"
      },
      "execution_count": 16,
      "outputs": [
        {
          "output_type": "stream",
          "name": "stdout",
          "text": [
            "Found 12409 images belonging to 12 classes.\n",
            "Found 3106 images belonging to 12 classes.\n"
          ]
        }
      ]
    }
  ]
}